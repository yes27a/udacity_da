{
 "cells": [
  {
   "cell_type": "markdown",
   "metadata": {},
   "source": [
    "# (Dataset Exploration Title)\n",
    "## by (your name here)\n",
    "\n",
    "## Preliminary Wrangling\n",
    "\n",
    "> Briefly introduce your dataset here."
   ]
  },
  {
   "cell_type": "code",
   "execution_count": 2,
   "metadata": {},
   "outputs": [],
   "source": [
    "# import all packages and set plots to be embedded inline\n",
    "import numpy as np\n",
    "import pandas as pd\n",
    "import matplotlib.pyplot as plt\n",
    "import seaborn as sb\n",
    "import requests\n",
    "from selenium import webdriver\n",
    "import time\n",
    "import os\n",
    "from zipfile import ZipFile\n",
    "import re\n",
    "from datetime import datetime\n",
    "import pickle\n",
    "%matplotlib inline"
   ]
  },
  {
   "cell_type": "markdown",
   "metadata": {},
   "source": [
    "> Load in your dataset and describe its properties through the questions below.\n",
    "Try and motivate your exploration goals through this section."
   ]
  },
  {
   "cell_type": "markdown",
   "metadata": {},
   "source": [
    "## Bay Wheels's trip data (greater San Francisco Bay area.)\n",
    "https://s3.amazonaws.com/baywheels-data/index.html\n",
    "2017/6/28 ~ 2020/01\n",
    "\n",
    "## New York\n",
    "https://s3.amazonaws.com/tripdata/index.html\n",
    "2017 ~ 202001\n"
   ]
  },
  {
   "cell_type": "code",
   "execution_count": 100,
   "metadata": {},
   "outputs": [],
   "source": [
    "#url='https://s3.amazonaws.com/baywheels-data/index.html'\n",
    "url='https://s3.amazonaws.com/tripdata/index.html'\n"
   ]
  },
  {
   "cell_type": "code",
   "execution_count": null,
   "metadata": {},
   "outputs": [],
   "source": []
  },
  {
   "cell_type": "code",
   "execution_count": 102,
   "metadata": {},
   "outputs": [],
   "source": [
    "driver=webdriver.Chrome()\n",
    "driver.get(url)\n",
    "#time.sleep(3)\n",
    "driver.implicitly_wait(3)"
   ]
  },
  {
   "cell_type": "code",
   "execution_count": 103,
   "metadata": {},
   "outputs": [
    {
     "data": {
      "text/plain": [
       "135"
      ]
     },
     "execution_count": 103,
     "metadata": {},
     "output_type": "execute_result"
    }
   ],
   "source": [
    "rows=driver.find_elements_by_css_selector('#tbody-content > tr > td > a')\n",
    "len(rows)"
   ]
  },
  {
   "cell_type": "code",
   "execution_count": 104,
   "metadata": {},
   "outputs": [
    {
     "data": {
      "text/plain": [
       "['https://s3.amazonaws.com/tripdata/201306-citibike-tripdata.zip',\n",
       " 'https://s3.amazonaws.com/tripdata/201307-201402-citibike-tripdata.zip',\n",
       " 'https://s3.amazonaws.com/tripdata/201307-citibike-tripdata.zip',\n",
       " 'https://s3.amazonaws.com/tripdata/201308-citibike-tripdata.zip',\n",
       " 'https://s3.amazonaws.com/tripdata/201309-citibike-tripdata.zip',\n",
       " 'https://s3.amazonaws.com/tripdata/201310-citibike-tripdata.zip',\n",
       " 'https://s3.amazonaws.com/tripdata/201311-citibike-tripdata.zip',\n",
       " 'https://s3.amazonaws.com/tripdata/201312-citibike-tripdata.zip',\n",
       " 'https://s3.amazonaws.com/tripdata/201401-citibike-tripdata.zip',\n",
       " 'https://s3.amazonaws.com/tripdata/201402-citibike-tripdata.zip',\n",
       " 'https://s3.amazonaws.com/tripdata/201403-citibike-tripdata.zip',\n",
       " 'https://s3.amazonaws.com/tripdata/201404-citibike-tripdata.zip',\n",
       " 'https://s3.amazonaws.com/tripdata/201405-citibike-tripdata.zip',\n",
       " 'https://s3.amazonaws.com/tripdata/201406-citibike-tripdata.zip',\n",
       " 'https://s3.amazonaws.com/tripdata/201407-citibike-tripdata.zip',\n",
       " 'https://s3.amazonaws.com/tripdata/201408-citibike-tripdata.zip',\n",
       " 'https://s3.amazonaws.com/tripdata/201409-citibike-tripdata.zip',\n",
       " 'https://s3.amazonaws.com/tripdata/201410-citibike-tripdata.zip',\n",
       " 'https://s3.amazonaws.com/tripdata/201411-citibike-tripdata.zip',\n",
       " 'https://s3.amazonaws.com/tripdata/201412-citibike-tripdata.zip',\n",
       " 'https://s3.amazonaws.com/tripdata/201501-citibike-tripdata.zip',\n",
       " 'https://s3.amazonaws.com/tripdata/201502-citibike-tripdata.zip',\n",
       " 'https://s3.amazonaws.com/tripdata/201503-citibike-tripdata.zip',\n",
       " 'https://s3.amazonaws.com/tripdata/201504-citibike-tripdata.zip',\n",
       " 'https://s3.amazonaws.com/tripdata/201505-citibike-tripdata.zip',\n",
       " 'https://s3.amazonaws.com/tripdata/201506-citibike-tripdata.zip',\n",
       " 'https://s3.amazonaws.com/tripdata/201507-citibike-tripdata.zip',\n",
       " 'https://s3.amazonaws.com/tripdata/201508-citibike-tripdata.zip',\n",
       " 'https://s3.amazonaws.com/tripdata/201509-citibike-tripdata.zip',\n",
       " 'https://s3.amazonaws.com/tripdata/201510-citibike-tripdata.zip',\n",
       " 'https://s3.amazonaws.com/tripdata/201511-citibike-tripdata.zip',\n",
       " 'https://s3.amazonaws.com/tripdata/201512-citibike-tripdata.zip',\n",
       " 'https://s3.amazonaws.com/tripdata/201601-citibike-tripdata.zip',\n",
       " 'https://s3.amazonaws.com/tripdata/201602-citibike-tripdata.zip',\n",
       " 'https://s3.amazonaws.com/tripdata/201603-citibike-tripdata.zip',\n",
       " 'https://s3.amazonaws.com/tripdata/201604-citibike-tripdata.zip',\n",
       " 'https://s3.amazonaws.com/tripdata/201605-citibike-tripdata.zip',\n",
       " 'https://s3.amazonaws.com/tripdata/201606-citibike-tripdata.zip',\n",
       " 'https://s3.amazonaws.com/tripdata/201607-citibike-tripdata.zip',\n",
       " 'https://s3.amazonaws.com/tripdata/201608-citibike-tripdata.zip',\n",
       " 'https://s3.amazonaws.com/tripdata/201609-citibike-tripdata.zip',\n",
       " 'https://s3.amazonaws.com/tripdata/201610-citibike-tripdata.zip',\n",
       " 'https://s3.amazonaws.com/tripdata/201611-citibike-tripdata.zip',\n",
       " 'https://s3.amazonaws.com/tripdata/201612-citibike-tripdata.zip',\n",
       " 'https://s3.amazonaws.com/tripdata/201701-citibike-tripdata.csv.zip',\n",
       " 'https://s3.amazonaws.com/tripdata/201702-citibike-tripdata.csv.zip',\n",
       " 'https://s3.amazonaws.com/tripdata/201703-citibike-tripdata.csv.zip',\n",
       " 'https://s3.amazonaws.com/tripdata/201704-citibike-tripdata.csv.zip',\n",
       " 'https://s3.amazonaws.com/tripdata/201705-citibike-tripdata.csv.zip',\n",
       " 'https://s3.amazonaws.com/tripdata/201706-citibike-tripdata.csv.zip',\n",
       " 'https://s3.amazonaws.com/tripdata/201707-citibike-tripdata.csv.zip',\n",
       " 'https://s3.amazonaws.com/tripdata/201708-citibike-tripdata.csv.zip',\n",
       " 'https://s3.amazonaws.com/tripdata/201709-citibike-tripdata.csv.zip',\n",
       " 'https://s3.amazonaws.com/tripdata/201710-citibike-tripdata.csv.zip',\n",
       " 'https://s3.amazonaws.com/tripdata/201711-citibike-tripdata.csv.zip',\n",
       " 'https://s3.amazonaws.com/tripdata/201712-citibike-tripdata.csv.zip',\n",
       " 'https://s3.amazonaws.com/tripdata/201801-citibike-tripdata.csv.zip',\n",
       " 'https://s3.amazonaws.com/tripdata/201802-citibike-tripdata.csv.zip',\n",
       " 'https://s3.amazonaws.com/tripdata/201803-citibike-tripdata.csv.zip',\n",
       " 'https://s3.amazonaws.com/tripdata/201804-citibike-tripdata.csv.zip',\n",
       " 'https://s3.amazonaws.com/tripdata/201805-citibike-tripdata.csv.zip',\n",
       " 'https://s3.amazonaws.com/tripdata/201806-citibike-tripdata.csv.zip',\n",
       " 'https://s3.amazonaws.com/tripdata/201807-citibike-tripdata.csv.zip',\n",
       " 'https://s3.amazonaws.com/tripdata/201808-citibike-tripdata.csv.zip',\n",
       " 'https://s3.amazonaws.com/tripdata/201809-citibike-tripdata.csv.zip',\n",
       " 'https://s3.amazonaws.com/tripdata/201810-citibike-tripdata.csv.zip',\n",
       " 'https://s3.amazonaws.com/tripdata/201811-citibike-tripdata.csv.zip',\n",
       " 'https://s3.amazonaws.com/tripdata/201812-citibike-tripdata.csv.zip',\n",
       " 'https://s3.amazonaws.com/tripdata/201901-citibike-tripdata.csv.zip',\n",
       " 'https://s3.amazonaws.com/tripdata/201902-citibike-tripdata.csv.zip',\n",
       " 'https://s3.amazonaws.com/tripdata/201903-citibike-tripdata.csv.zip',\n",
       " 'https://s3.amazonaws.com/tripdata/201904-citibike-tripdata.csv.zip',\n",
       " 'https://s3.amazonaws.com/tripdata/201905-citibike-tripdata.csv.zip',\n",
       " 'https://s3.amazonaws.com/tripdata/201906-citibike-tripdata.csv.zip',\n",
       " 'https://s3.amazonaws.com/tripdata/201907-citibike-tripdata.csv.zip',\n",
       " 'https://s3.amazonaws.com/tripdata/201908-citibike-tripdata.csv.zip',\n",
       " 'https://s3.amazonaws.com/tripdata/201909-citibike-tripdata.csv.zip',\n",
       " 'https://s3.amazonaws.com/tripdata/201910-citibike-tripdata.csv.zip',\n",
       " 'https://s3.amazonaws.com/tripdata/201911-citibike-tripdata.csv.zip',\n",
       " 'https://s3.amazonaws.com/tripdata/201912-citibike-tripdata.csv.zip',\n",
       " 'https://s3.amazonaws.com/tripdata/202001-citibike-tripdata.csv.zip',\n",
       " 'https://s3.amazonaws.com/tripdata/JC-201509-citibike-tripdata.csv.zip',\n",
       " 'https://s3.amazonaws.com/tripdata/JC-201510-citibike-tripdata.csv.zip',\n",
       " 'https://s3.amazonaws.com/tripdata/JC-201511-citibike-tripdata.csv.zip',\n",
       " 'https://s3.amazonaws.com/tripdata/JC-201512-citibike-tripdata.csv.zip',\n",
       " 'https://s3.amazonaws.com/tripdata/JC-201601-citibike-tripdata.csv.zip',\n",
       " 'https://s3.amazonaws.com/tripdata/JC-201602-citibike-tripdata.csv.zip',\n",
       " 'https://s3.amazonaws.com/tripdata/JC-201603-citibike-tripdata.csv.zip',\n",
       " 'https://s3.amazonaws.com/tripdata/JC-201604-citibike-tripdata.csv.zip',\n",
       " 'https://s3.amazonaws.com/tripdata/JC-201605-citibike-tripdata.csv.zip',\n",
       " 'https://s3.amazonaws.com/tripdata/JC-201606-citibike-tripdata.csv.zip',\n",
       " 'https://s3.amazonaws.com/tripdata/JC-201607-citibike-tripdata.csv.zip',\n",
       " 'https://s3.amazonaws.com/tripdata/JC-201608-citibike-tripdata.csv.zip',\n",
       " 'https://s3.amazonaws.com/tripdata/JC-201609-citibike-tripdata.csv.zip',\n",
       " 'https://s3.amazonaws.com/tripdata/JC-201610-citibike-tripdata.csv.zip',\n",
       " 'https://s3.amazonaws.com/tripdata/JC-201611-citibike-tripdata.csv.zip',\n",
       " 'https://s3.amazonaws.com/tripdata/JC-201612-citibike-tripdata.csv.zip',\n",
       " 'https://s3.amazonaws.com/tripdata/JC-201701-citibike-tripdata.csv.zip',\n",
       " 'https://s3.amazonaws.com/tripdata/JC-201702-citibike-tripdata.csv.zip',\n",
       " 'https://s3.amazonaws.com/tripdata/JC-201703-citibike-tripdata.csv.zip',\n",
       " 'https://s3.amazonaws.com/tripdata/JC-201704-citibike-tripdata.csv.zip',\n",
       " 'https://s3.amazonaws.com/tripdata/JC-201705-citibike-tripdata.csv.zip',\n",
       " 'https://s3.amazonaws.com/tripdata/JC-201706-citibike-tripdata.csv.zip',\n",
       " 'https://s3.amazonaws.com/tripdata/JC-201707-citibike-tripdata.csv.zip',\n",
       " 'https://s3.amazonaws.com/tripdata/JC-201708%20citibike-tripdata.csv.zip',\n",
       " 'https://s3.amazonaws.com/tripdata/JC-201709-citibike-tripdata.csv.zip',\n",
       " 'https://s3.amazonaws.com/tripdata/JC-201710-citibike-tripdata.csv.zip',\n",
       " 'https://s3.amazonaws.com/tripdata/JC-201711-citibike-tripdata.csv.zip',\n",
       " 'https://s3.amazonaws.com/tripdata/JC-201712-citibike-tripdata.csv.zip',\n",
       " 'https://s3.amazonaws.com/tripdata/JC-201801-citibike-tripdata.csv.zip',\n",
       " 'https://s3.amazonaws.com/tripdata/JC-201802-citibike-tripdata.csv.zip',\n",
       " 'https://s3.amazonaws.com/tripdata/JC-201803-citibike-tripdata.csv.zip',\n",
       " 'https://s3.amazonaws.com/tripdata/JC-201804-citibike-tripdata.csv.zip',\n",
       " 'https://s3.amazonaws.com/tripdata/JC-201805-citibike-tripdata.csv.zip',\n",
       " 'https://s3.amazonaws.com/tripdata/JC-201806-citibike-tripdata.csv.zip',\n",
       " 'https://s3.amazonaws.com/tripdata/JC-201807-citibike-tripdata.csv.zip',\n",
       " 'https://s3.amazonaws.com/tripdata/JC-201808-citibike-tripdata.csv.zip',\n",
       " 'https://s3.amazonaws.com/tripdata/JC-201809-citibike-tripdata.csv.zip',\n",
       " 'https://s3.amazonaws.com/tripdata/JC-201810-citibike-tripdata.csv.zip',\n",
       " 'https://s3.amazonaws.com/tripdata/JC-201811-citibike-tripdata.csv.zip',\n",
       " 'https://s3.amazonaws.com/tripdata/JC-201812-citibike-tripdata.csv.zip',\n",
       " 'https://s3.amazonaws.com/tripdata/JC-201901-citibike-tripdata.csv.zip',\n",
       " 'https://s3.amazonaws.com/tripdata/JC-201902-citibike-tripdata.csv.zip',\n",
       " 'https://s3.amazonaws.com/tripdata/JC-201903-citibike-tripdata.csv.zip',\n",
       " 'https://s3.amazonaws.com/tripdata/JC-201904-citibike-tripdata.csv.zip',\n",
       " 'https://s3.amazonaws.com/tripdata/JC-201905-citibike-tripdata.csv.zip',\n",
       " 'https://s3.amazonaws.com/tripdata/JC-201906-citibike-tripdata.csv.zip',\n",
       " 'https://s3.amazonaws.com/tripdata/JC-201907-citibike-tripdata.csv.zip',\n",
       " 'https://s3.amazonaws.com/tripdata/JC-201908-citibike-tripdata.csv.zip',\n",
       " 'https://s3.amazonaws.com/tripdata/JC-201909-citibike-tripdata.csv.zip',\n",
       " 'https://s3.amazonaws.com/tripdata/JC-201910-citibike-tripdata.csv.zip',\n",
       " 'https://s3.amazonaws.com/tripdata/JC-201911-citibike-tripdata.csv.zip',\n",
       " 'https://s3.amazonaws.com/tripdata/JC-201912-citibike-tripdata.csv.zip',\n",
       " 'https://s3.amazonaws.com/tripdata/JC-202001-citibike-tripdata.csv.zip',\n",
       " 'https://s3.amazonaws.com/tripdata/index.html']"
      ]
     },
     "execution_count": 104,
     "metadata": {},
     "output_type": "execute_result"
    }
   ],
   "source": [
    "f_url=[d.get_attribute('href') for d in rows]\n",
    "f_url"
   ]
  },
  {
   "cell_type": "code",
   "execution_count": 105,
   "metadata": {},
   "outputs": [],
   "source": [
    "driver.quit()"
   ]
  },
  {
   "cell_type": "code",
   "execution_count": 106,
   "metadata": {},
   "outputs": [],
   "source": [
    "#folder_name='sf'\n",
    "folder_name='ny'"
   ]
  },
  {
   "cell_type": "code",
   "execution_count": 107,
   "metadata": {},
   "outputs": [],
   "source": [
    "# create new folder with city name\n",
    "if not os.path.exists('data/{}'.format(folder_name)):\n",
    "    os.makedirs('data/{}'.format(folder_name))"
   ]
  },
  {
   "cell_type": "code",
   "execution_count": 120,
   "metadata": {},
   "outputs": [
    {
     "data": {
      "text/plain": [
       "'201307'"
      ]
     },
     "execution_count": 120,
     "metadata": {},
     "output_type": "execute_result"
    }
   ],
   "source": [
    "#datetime.strptime(''.join(re.findall('\\d',f_url[-3].split('/')[1])),'%Y%m')\n",
    "''.join(re.findall('\\d',f_url[1].split('/')[-1])[:6])"
   ]
  },
  {
   "cell_type": "markdown",
   "metadata": {},
   "source": [
    "fromdate = datetime(2017,1,1)\n",
    "todate = datetime(2020,1,1)"
   ]
  },
  {
   "cell_type": "code",
   "execution_count": 126,
   "metadata": {},
   "outputs": [
    {
     "data": {
      "text/plain": [
       "'201307-201402-citibike-tripdata.zip'"
      ]
     },
     "execution_count": 126,
     "metadata": {},
     "output_type": "execute_result"
    }
   ],
   "source": [
    "f_url[1].split('/')[-1]"
   ]
  },
  {
   "cell_type": "code",
   "execution_count": 130,
   "metadata": {},
   "outputs": [
    {
     "name": "stdout",
     "output_type": "stream",
     "text": [
      "201701-citibike-tripdata.csv.zip\n",
      "201702-citibike-tripdata.csv.zip\n",
      "201703-citibike-tripdata.csv.zip\n",
      "201704-citibike-tripdata.csv.zip\n",
      "201705-citibike-tripdata.csv.zip\n",
      "201706-citibike-tripdata.csv.zip\n",
      "201707-citibike-tripdata.csv.zip\n",
      "201708-citibike-tripdata.csv.zip\n",
      "201709-citibike-tripdata.csv.zip\n",
      "201710-citibike-tripdata.csv.zip\n",
      "201711-citibike-tripdata.csv.zip\n",
      "201712-citibike-tripdata.csv.zip\n",
      "201801-citibike-tripdata.csv.zip\n",
      "201802-citibike-tripdata.csv.zip\n",
      "201803-citibike-tripdata.csv.zip\n",
      "201804-citibike-tripdata.csv.zip\n",
      "201805-citibike-tripdata.csv.zip\n",
      "201806-citibike-tripdata.csv.zip\n",
      "201807-citibike-tripdata.csv.zip\n",
      "201808-citibike-tripdata.csv.zip\n",
      "201809-citibike-tripdata.csv.zip\n",
      "201810-citibike-tripdata.csv.zip\n",
      "201811-citibike-tripdata.csv.zip\n",
      "201812-citibike-tripdata.csv.zip\n",
      "201901-citibike-tripdata.csv.zip\n",
      "201902-citibike-tripdata.csv.zip\n",
      "201903-citibike-tripdata.csv.zip\n",
      "201904-citibike-tripdata.csv.zip\n",
      "201905-citibike-tripdata.csv.zip\n",
      "201906-citibike-tripdata.csv.zip\n",
      "201907-citibike-tripdata.csv.zip\n",
      "201908-citibike-tripdata.csv.zip\n",
      "201909-citibike-tripdata.csv.zip\n",
      "201910-citibike-tripdata.csv.zip\n",
      "201911-citibike-tripdata.csv.zip\n",
      "201912-citibike-tripdata.csv.zip\n",
      "202001-citibike-tripdata.csv.zip\n",
      "JC-201701-citibike-tripdata.csv.zip\n",
      "JC-201702-citibike-tripdata.csv.zip\n",
      "JC-201703-citibike-tripdata.csv.zip\n",
      "JC-201704-citibike-tripdata.csv.zip\n",
      "JC-201705-citibike-tripdata.csv.zip\n",
      "JC-201706-citibike-tripdata.csv.zip\n",
      "JC-201707-citibike-tripdata.csv.zip\n",
      "JC-201708%20citibike-tripdata.csv.zip\n",
      "JC-201709-citibike-tripdata.csv.zip\n",
      "JC-201710-citibike-tripdata.csv.zip\n",
      "JC-201711-citibike-tripdata.csv.zip\n",
      "JC-201712-citibike-tripdata.csv.zip\n",
      "JC-201801-citibike-tripdata.csv.zip\n",
      "JC-201802-citibike-tripdata.csv.zip\n",
      "JC-201803-citibike-tripdata.csv.zip\n",
      "JC-201804-citibike-tripdata.csv.zip\n",
      "JC-201805-citibike-tripdata.csv.zip\n",
      "JC-201806-citibike-tripdata.csv.zip\n",
      "JC-201807-citibike-tripdata.csv.zip\n",
      "JC-201808-citibike-tripdata.csv.zip\n",
      "JC-201809-citibike-tripdata.csv.zip\n",
      "JC-201810-citibike-tripdata.csv.zip\n",
      "JC-201811-citibike-tripdata.csv.zip\n",
      "JC-201812-citibike-tripdata.csv.zip\n",
      "JC-201901-citibike-tripdata.csv.zip\n",
      "JC-201902-citibike-tripdata.csv.zip\n",
      "JC-201903-citibike-tripdata.csv.zip\n",
      "JC-201904-citibike-tripdata.csv.zip\n",
      "JC-201905-citibike-tripdata.csv.zip\n",
      "JC-201906-citibike-tripdata.csv.zip\n",
      "JC-201907-citibike-tripdata.csv.zip\n",
      "JC-201908-citibike-tripdata.csv.zip\n",
      "JC-201909-citibike-tripdata.csv.zip\n",
      "JC-201910-citibike-tripdata.csv.zip\n",
      "JC-201911-citibike-tripdata.csv.zip\n",
      "JC-201912-citibike-tripdata.csv.zip\n",
      "JC-202001-citibike-tripdata.csv.zip\n"
     ]
    },
    {
     "ename": "ValueError",
     "evalue": "time data '' does not match format '%Y%m'",
     "output_type": "error",
     "traceback": [
      "\u001b[1;31m---------------------------------------------------------------------------\u001b[0m",
      "\u001b[1;31mValueError\u001b[0m                                Traceback (most recent call last)",
      "\u001b[1;32m<ipython-input-130-36686eae4bd7>\u001b[0m in \u001b[0;36m<module>\u001b[1;34m\u001b[0m\n\u001b[0;32m      4\u001b[0m     \u001b[0mfext\u001b[0m \u001b[1;33m=\u001b[0m \u001b[0mea\u001b[0m\u001b[1;33m.\u001b[0m\u001b[0msplit\u001b[0m\u001b[1;33m(\u001b[0m\u001b[1;34m'.'\u001b[0m\u001b[1;33m)\u001b[0m\u001b[1;33m[\u001b[0m\u001b[1;33m-\u001b[0m\u001b[1;36m1\u001b[0m\u001b[1;33m]\u001b[0m\u001b[1;33m\u001b[0m\u001b[1;33m\u001b[0m\u001b[0m\n\u001b[0;32m      5\u001b[0m     \u001b[1;31m# identify yr month and set condition\u001b[0m\u001b[1;33m\u001b[0m\u001b[1;33m\u001b[0m\u001b[1;33m\u001b[0m\u001b[0m\n\u001b[1;32m----> 6\u001b[1;33m     \u001b[0mfdate\u001b[0m \u001b[1;33m=\u001b[0m \u001b[0mdatetime\u001b[0m\u001b[1;33m.\u001b[0m\u001b[0mstrptime\u001b[0m\u001b[1;33m(\u001b[0m\u001b[1;34m''\u001b[0m\u001b[1;33m.\u001b[0m\u001b[0mjoin\u001b[0m\u001b[1;33m(\u001b[0m\u001b[0mre\u001b[0m\u001b[1;33m.\u001b[0m\u001b[0mfindall\u001b[0m\u001b[1;33m(\u001b[0m\u001b[1;34m'\\d'\u001b[0m\u001b[1;33m,\u001b[0m\u001b[0mea\u001b[0m\u001b[1;33m.\u001b[0m\u001b[0msplit\u001b[0m\u001b[1;33m(\u001b[0m\u001b[1;34m'/'\u001b[0m\u001b[1;33m)\u001b[0m\u001b[1;33m[\u001b[0m\u001b[1;33m-\u001b[0m\u001b[1;36m1\u001b[0m\u001b[1;33m]\u001b[0m\u001b[1;33m)\u001b[0m\u001b[1;33m[\u001b[0m\u001b[1;33m:\u001b[0m\u001b[1;36m6\u001b[0m\u001b[1;33m]\u001b[0m\u001b[1;33m)\u001b[0m\u001b[1;33m,\u001b[0m\u001b[1;34m'%Y%m'\u001b[0m\u001b[1;33m)\u001b[0m\u001b[1;33m\u001b[0m\u001b[1;33m\u001b[0m\u001b[0m\n\u001b[0m\u001b[0;32m      7\u001b[0m     \u001b[1;32mif\u001b[0m \u001b[0mfdate\u001b[0m \u001b[1;33m>=\u001b[0m \u001b[0mfromdate\u001b[0m \u001b[1;32mand\u001b[0m \u001b[0mfdate\u001b[0m \u001b[1;33m<=\u001b[0m \u001b[0mtodate\u001b[0m\u001b[1;33m:\u001b[0m\u001b[1;33m\u001b[0m\u001b[1;33m\u001b[0m\u001b[0m\n\u001b[0;32m      8\u001b[0m         \u001b[1;32mif\u001b[0m \u001b[0mfext\u001b[0m \u001b[1;33m==\u001b[0m \u001b[1;34m'zip'\u001b[0m\u001b[1;33m:\u001b[0m\u001b[1;33m\u001b[0m\u001b[1;33m\u001b[0m\u001b[0m\n",
      "\u001b[1;32mC:\\Anaconda3\\lib\\_strptime.py\u001b[0m in \u001b[0;36m_strptime_datetime\u001b[1;34m(cls, data_string, format)\u001b[0m\n\u001b[0;32m    575\u001b[0m     \"\"\"Return a class cls instance based on the input string and the\n\u001b[0;32m    576\u001b[0m     format string.\"\"\"\n\u001b[1;32m--> 577\u001b[1;33m     \u001b[0mtt\u001b[0m\u001b[1;33m,\u001b[0m \u001b[0mfraction\u001b[0m\u001b[1;33m,\u001b[0m \u001b[0mgmtoff_fraction\u001b[0m \u001b[1;33m=\u001b[0m \u001b[0m_strptime\u001b[0m\u001b[1;33m(\u001b[0m\u001b[0mdata_string\u001b[0m\u001b[1;33m,\u001b[0m \u001b[0mformat\u001b[0m\u001b[1;33m)\u001b[0m\u001b[1;33m\u001b[0m\u001b[1;33m\u001b[0m\u001b[0m\n\u001b[0m\u001b[0;32m    578\u001b[0m     \u001b[0mtzname\u001b[0m\u001b[1;33m,\u001b[0m \u001b[0mgmtoff\u001b[0m \u001b[1;33m=\u001b[0m \u001b[0mtt\u001b[0m\u001b[1;33m[\u001b[0m\u001b[1;33m-\u001b[0m\u001b[1;36m2\u001b[0m\u001b[1;33m:\u001b[0m\u001b[1;33m]\u001b[0m\u001b[1;33m\u001b[0m\u001b[1;33m\u001b[0m\u001b[0m\n\u001b[0;32m    579\u001b[0m     \u001b[0margs\u001b[0m \u001b[1;33m=\u001b[0m \u001b[0mtt\u001b[0m\u001b[1;33m[\u001b[0m\u001b[1;33m:\u001b[0m\u001b[1;36m6\u001b[0m\u001b[1;33m]\u001b[0m \u001b[1;33m+\u001b[0m \u001b[1;33m(\u001b[0m\u001b[0mfraction\u001b[0m\u001b[1;33m,\u001b[0m\u001b[1;33m)\u001b[0m\u001b[1;33m\u001b[0m\u001b[1;33m\u001b[0m\u001b[0m\n",
      "\u001b[1;32mC:\\Anaconda3\\lib\\_strptime.py\u001b[0m in \u001b[0;36m_strptime\u001b[1;34m(data_string, format)\u001b[0m\n\u001b[0;32m    357\u001b[0m     \u001b[1;32mif\u001b[0m \u001b[1;32mnot\u001b[0m \u001b[0mfound\u001b[0m\u001b[1;33m:\u001b[0m\u001b[1;33m\u001b[0m\u001b[1;33m\u001b[0m\u001b[0m\n\u001b[0;32m    358\u001b[0m         raise ValueError(\"time data %r does not match format %r\" %\n\u001b[1;32m--> 359\u001b[1;33m                          (data_string, format))\n\u001b[0m\u001b[0;32m    360\u001b[0m     \u001b[1;32mif\u001b[0m \u001b[0mlen\u001b[0m\u001b[1;33m(\u001b[0m\u001b[0mdata_string\u001b[0m\u001b[1;33m)\u001b[0m \u001b[1;33m!=\u001b[0m \u001b[0mfound\u001b[0m\u001b[1;33m.\u001b[0m\u001b[0mend\u001b[0m\u001b[1;33m(\u001b[0m\u001b[1;33m)\u001b[0m\u001b[1;33m:\u001b[0m\u001b[1;33m\u001b[0m\u001b[1;33m\u001b[0m\u001b[0m\n\u001b[0;32m    361\u001b[0m         raise ValueError(\"unconverted data remains: %s\" %\n",
      "\u001b[1;31mValueError\u001b[0m: time data '' does not match format '%Y%m'"
     ]
    }
   ],
   "source": [
    "# download zip file from the url list\n",
    "filelist=[]\n",
    "for ea in f_url:\n",
    "    fext = ea.split('.')[-1]\n",
    "    if fext == 'zip':\n",
    "        # screening date range condition\n",
    "        fdate = datetime.strptime(''.join(re.findall('\\d',ea.split('/')[-1])[:6]),'%Y%m')\n",
    "        if fdate >= fromdate and fdate <= todate:        \n",
    "            #fname = ea.split('.')[-3].split('/')[-1]+'.'+fext\n",
    "            fname = ea.split('/')[-1]\n",
    "            print(fname)\n",
    "            filelist.append(fname)\n",
    "            resp = requests.get(ea)\n",
    "            with open('data/{}/{}'.format(folder_name,fname),'wb') as f:\n",
    "                f.write(resp.content)\n",
    "    "
   ]
  },
  {
   "cell_type": "code",
   "execution_count": 135,
   "metadata": {},
   "outputs": [],
   "source": [
    "# unzip for all files in the folder\n",
    "for ea in filelist:\n",
    "    with ZipFile('data/{}/{}'.format(folder_name,ea),'r') as fzip:\n",
    "        fzip.extractall(path='data/{}'.format(folder_name))"
   ]
  },
  {
   "cell_type": "code",
   "execution_count": 3,
   "metadata": {},
   "outputs": [
    {
     "data": {
      "text/plain": [
       "['data/ny/201701-citibike-tripdata.csv',\n",
       " 'data/ny/201702-citibike-tripdata.csv',\n",
       " 'data/ny/201703-citibike-tripdata.csv',\n",
       " 'data/ny/201704-citibike-tripdata.csv',\n",
       " 'data/ny/201705-citibike-tripdata.csv',\n",
       " 'data/ny/201706-citibike-tripdata.csv',\n",
       " 'data/ny/201707-citibike-tripdata.csv',\n",
       " 'data/ny/201708-citibike-tripdata.csv',\n",
       " 'data/ny/201709-citibike-tripdata.csv',\n",
       " 'data/ny/201710-citibike-tripdata.csv',\n",
       " 'data/ny/201711-citibike-tripdata.csv',\n",
       " 'data/ny/201712-citibike-tripdata.csv',\n",
       " 'data/ny/201801-citibike-tripdata.csv',\n",
       " 'data/ny/201802-citibike-tripdata.csv',\n",
       " 'data/ny/201803-citibike-tripdata.csv',\n",
       " 'data/ny/201804-citibike-tripdata.csv',\n",
       " 'data/ny/201805-citibike-tripdata.csv',\n",
       " 'data/ny/201806-citibike-tripdata.csv',\n",
       " 'data/ny/201807-citibike-tripdata.csv',\n",
       " 'data/ny/201808-citibike-tripdata.csv',\n",
       " 'data/ny/201809-citibike-tripdata.csv',\n",
       " 'data/ny/201810-citibike-tripdata.csv',\n",
       " 'data/ny/201811-citibike-tripdata.csv',\n",
       " 'data/ny/201812-citibike-tripdata.csv',\n",
       " 'data/ny/201901-citibike-tripdata.csv',\n",
       " 'data/ny/201902-citibike-tripdata.csv',\n",
       " 'data/ny/201903-citibike-tripdata.csv',\n",
       " 'data/ny/201904-citibike-tripdata.csv',\n",
       " 'data/ny/201905-citibike-tripdata.csv',\n",
       " 'data/ny/201906-citibike-tripdata.csv',\n",
       " 'data/ny/201907-citibike-tripdata.csv',\n",
       " 'data/ny/201908-citibike-tripdata.csv',\n",
       " 'data/ny/201909-citibike-tripdata.csv',\n",
       " 'data/ny/201910-citibike-tripdata.csv',\n",
       " 'data/ny/201911-citibike-tripdata.csv',\n",
       " 'data/ny/201912-citibike-tripdata.csv',\n",
       " 'data/ny/202001-citibike-tripdata.csv']"
      ]
     },
     "execution_count": 3,
     "metadata": {},
     "output_type": "execute_result"
    }
   ],
   "source": [
    "#csvlist = !ls data/sf/*.csv\n",
    "csvlist = !ls data/ny/*.csv\n",
    "csvlist"
   ]
  },
  {
   "cell_type": "code",
   "execution_count": 4,
   "metadata": {},
   "outputs": [],
   "source": [
    "# load each csv and combine to a master dataframe\n",
    "\n",
    "dflist = [pd.read_csv(ea) for ea in csvlist]"
   ]
  },
  {
   "cell_type": "code",
   "execution_count": 193,
   "metadata": {},
   "outputs": [
    {
     "data": {
      "text/plain": [
       "55705289"
      ]
     },
     "execution_count": 193,
     "metadata": {},
     "output_type": "execute_result"
    }
   ],
   "source": [
    "np.sum([ea.shape[0] for ea in dflist])"
   ]
  },
  {
   "cell_type": "code",
   "execution_count": 6,
   "metadata": {},
   "outputs": [
    {
     "name": "stderr",
     "output_type": "stream",
     "text": [
      "C:\\Anaconda3\\lib\\site-packages\\ipykernel_launcher.py:3: FutureWarning: Sorting because non-concatenation axis is not aligned. A future version\n",
      "of pandas will change to not sort by default.\n",
      "\n",
      "To accept the future behavior, pass 'sort=False'.\n",
      "\n",
      "To retain the current behavior and silence the warning, pass 'sort=True'.\n",
      "\n",
      "  This is separate from the ipykernel package so we can avoid doing imports until\n"
     ]
    },
    {
     "ename": "MemoryError",
     "evalue": "",
     "output_type": "error",
     "traceback": [
      "\u001b[1;31m---------------------------------------------------------------------------\u001b[0m",
      "\u001b[1;31mMemoryError\u001b[0m                               Traceback (most recent call last)",
      "\u001b[1;32m<ipython-input-6-b6d5222db3de>\u001b[0m in \u001b[0;36m<module>\u001b[1;34m\u001b[0m\n\u001b[0;32m      1\u001b[0m \u001b[1;31m#sf_df=pd.concat(dflist)\u001b[0m\u001b[1;33m\u001b[0m\u001b[1;33m\u001b[0m\u001b[1;33m\u001b[0m\u001b[0m\n\u001b[0;32m      2\u001b[0m \u001b[1;31m#sf_df.reset_index(drop=True,inplace=True)\u001b[0m\u001b[1;33m\u001b[0m\u001b[1;33m\u001b[0m\u001b[1;33m\u001b[0m\u001b[0m\n\u001b[1;32m----> 3\u001b[1;33m \u001b[0mny_df\u001b[0m\u001b[1;33m=\u001b[0m\u001b[0mpd\u001b[0m\u001b[1;33m.\u001b[0m\u001b[0mconcat\u001b[0m\u001b[1;33m(\u001b[0m\u001b[0mdflist\u001b[0m\u001b[1;33m,\u001b[0m\u001b[0mignore_index\u001b[0m\u001b[1;33m=\u001b[0m\u001b[1;32mTrue\u001b[0m\u001b[1;33m,\u001b[0m\u001b[0mcopy\u001b[0m\u001b[1;33m=\u001b[0m\u001b[1;32mFalse\u001b[0m\u001b[1;33m)\u001b[0m\u001b[1;33m\u001b[0m\u001b[1;33m\u001b[0m\u001b[0m\n\u001b[0m\u001b[0;32m      4\u001b[0m \u001b[0mny_df\u001b[0m\u001b[1;33m.\u001b[0m\u001b[0mreset_index\u001b[0m\u001b[1;33m(\u001b[0m\u001b[0minplace\u001b[0m\u001b[1;33m=\u001b[0m\u001b[1;32mTrue\u001b[0m\u001b[1;33m)\u001b[0m\u001b[1;33m\u001b[0m\u001b[1;33m\u001b[0m\u001b[0m\n",
      "\u001b[1;32mC:\\Anaconda3\\lib\\site-packages\\pandas\\core\\reshape\\concat.py\u001b[0m in \u001b[0;36mconcat\u001b[1;34m(objs, axis, join, join_axes, ignore_index, keys, levels, names, verify_integrity, sort, copy)\u001b[0m\n\u001b[0;32m    256\u001b[0m     )\n\u001b[0;32m    257\u001b[0m \u001b[1;33m\u001b[0m\u001b[0m\n\u001b[1;32m--> 258\u001b[1;33m     \u001b[1;32mreturn\u001b[0m \u001b[0mop\u001b[0m\u001b[1;33m.\u001b[0m\u001b[0mget_result\u001b[0m\u001b[1;33m(\u001b[0m\u001b[1;33m)\u001b[0m\u001b[1;33m\u001b[0m\u001b[1;33m\u001b[0m\u001b[0m\n\u001b[0m\u001b[0;32m    259\u001b[0m \u001b[1;33m\u001b[0m\u001b[0m\n\u001b[0;32m    260\u001b[0m \u001b[1;33m\u001b[0m\u001b[0m\n",
      "\u001b[1;32mC:\\Anaconda3\\lib\\site-packages\\pandas\\core\\reshape\\concat.py\u001b[0m in \u001b[0;36mget_result\u001b[1;34m(self)\u001b[0m\n\u001b[0;32m    471\u001b[0m \u001b[1;33m\u001b[0m\u001b[0m\n\u001b[0;32m    472\u001b[0m             new_data = concatenate_block_managers(\n\u001b[1;32m--> 473\u001b[1;33m                 \u001b[0mmgrs_indexers\u001b[0m\u001b[1;33m,\u001b[0m \u001b[0mself\u001b[0m\u001b[1;33m.\u001b[0m\u001b[0mnew_axes\u001b[0m\u001b[1;33m,\u001b[0m \u001b[0mconcat_axis\u001b[0m\u001b[1;33m=\u001b[0m\u001b[0mself\u001b[0m\u001b[1;33m.\u001b[0m\u001b[0maxis\u001b[0m\u001b[1;33m,\u001b[0m \u001b[0mcopy\u001b[0m\u001b[1;33m=\u001b[0m\u001b[0mself\u001b[0m\u001b[1;33m.\u001b[0m\u001b[0mcopy\u001b[0m\u001b[1;33m\u001b[0m\u001b[1;33m\u001b[0m\u001b[0m\n\u001b[0m\u001b[0;32m    474\u001b[0m             )\n\u001b[0;32m    475\u001b[0m             \u001b[1;32mif\u001b[0m \u001b[1;32mnot\u001b[0m \u001b[0mself\u001b[0m\u001b[1;33m.\u001b[0m\u001b[0mcopy\u001b[0m\u001b[1;33m:\u001b[0m\u001b[1;33m\u001b[0m\u001b[1;33m\u001b[0m\u001b[0m\n",
      "\u001b[1;32mC:\\Anaconda3\\lib\\site-packages\\pandas\\core\\internals\\managers.py\u001b[0m in \u001b[0;36mconcatenate_block_managers\u001b[1;34m(mgrs_indexers, axes, concat_axis, copy)\u001b[0m\n\u001b[0;32m   2052\u001b[0m         \u001b[1;32melse\u001b[0m\u001b[1;33m:\u001b[0m\u001b[1;33m\u001b[0m\u001b[1;33m\u001b[0m\u001b[0m\n\u001b[0;32m   2053\u001b[0m             b = make_block(\n\u001b[1;32m-> 2054\u001b[1;33m                 \u001b[0mconcatenate_join_units\u001b[0m\u001b[1;33m(\u001b[0m\u001b[0mjoin_units\u001b[0m\u001b[1;33m,\u001b[0m \u001b[0mconcat_axis\u001b[0m\u001b[1;33m,\u001b[0m \u001b[0mcopy\u001b[0m\u001b[1;33m=\u001b[0m\u001b[0mcopy\u001b[0m\u001b[1;33m)\u001b[0m\u001b[1;33m,\u001b[0m\u001b[1;33m\u001b[0m\u001b[1;33m\u001b[0m\u001b[0m\n\u001b[0m\u001b[0;32m   2055\u001b[0m                 \u001b[0mplacement\u001b[0m\u001b[1;33m=\u001b[0m\u001b[0mplacement\u001b[0m\u001b[1;33m,\u001b[0m\u001b[1;33m\u001b[0m\u001b[1;33m\u001b[0m\u001b[0m\n\u001b[0;32m   2056\u001b[0m             )\n",
      "\u001b[1;32mC:\\Anaconda3\\lib\\site-packages\\pandas\\core\\internals\\concat.py\u001b[0m in \u001b[0;36mconcatenate_join_units\u001b[1;34m(join_units, concat_axis, copy)\u001b[0m\n\u001b[0;32m    266\u001b[0m                 \u001b[0mconcat_values\u001b[0m \u001b[1;33m=\u001b[0m \u001b[0mconcat_values\u001b[0m\u001b[1;33m.\u001b[0m\u001b[0mcopy\u001b[0m\u001b[1;33m(\u001b[0m\u001b[1;33m)\u001b[0m\u001b[1;33m\u001b[0m\u001b[1;33m\u001b[0m\u001b[0m\n\u001b[0;32m    267\u001b[0m     \u001b[1;32melse\u001b[0m\u001b[1;33m:\u001b[0m\u001b[1;33m\u001b[0m\u001b[1;33m\u001b[0m\u001b[0m\n\u001b[1;32m--> 268\u001b[1;33m         \u001b[0mconcat_values\u001b[0m \u001b[1;33m=\u001b[0m \u001b[0m_concat\u001b[0m\u001b[1;33m.\u001b[0m\u001b[0m_concat_compat\u001b[0m\u001b[1;33m(\u001b[0m\u001b[0mto_concat\u001b[0m\u001b[1;33m,\u001b[0m \u001b[0maxis\u001b[0m\u001b[1;33m=\u001b[0m\u001b[0mconcat_axis\u001b[0m\u001b[1;33m)\u001b[0m\u001b[1;33m\u001b[0m\u001b[1;33m\u001b[0m\u001b[0m\n\u001b[0m\u001b[0;32m    269\u001b[0m \u001b[1;33m\u001b[0m\u001b[0m\n\u001b[0;32m    270\u001b[0m     \u001b[1;32mreturn\u001b[0m \u001b[0mconcat_values\u001b[0m\u001b[1;33m\u001b[0m\u001b[1;33m\u001b[0m\u001b[0m\n",
      "\u001b[1;32mC:\\Anaconda3\\lib\\site-packages\\pandas\\core\\dtypes\\concat.py\u001b[0m in \u001b[0;36m_concat_compat\u001b[1;34m(to_concat, axis)\u001b[0m\n\u001b[0;32m    172\u001b[0m                 \u001b[0mto_concat\u001b[0m \u001b[1;33m=\u001b[0m \u001b[1;33m[\u001b[0m\u001b[0mx\u001b[0m\u001b[1;33m.\u001b[0m\u001b[0mastype\u001b[0m\u001b[1;33m(\u001b[0m\u001b[1;34m\"object\"\u001b[0m\u001b[1;33m)\u001b[0m \u001b[1;32mfor\u001b[0m \u001b[0mx\u001b[0m \u001b[1;32min\u001b[0m \u001b[0mto_concat\u001b[0m\u001b[1;33m]\u001b[0m\u001b[1;33m\u001b[0m\u001b[1;33m\u001b[0m\u001b[0m\n\u001b[0;32m    173\u001b[0m \u001b[1;33m\u001b[0m\u001b[0m\n\u001b[1;32m--> 174\u001b[1;33m     \u001b[1;32mreturn\u001b[0m \u001b[0mnp\u001b[0m\u001b[1;33m.\u001b[0m\u001b[0mconcatenate\u001b[0m\u001b[1;33m(\u001b[0m\u001b[0mto_concat\u001b[0m\u001b[1;33m,\u001b[0m \u001b[0maxis\u001b[0m\u001b[1;33m=\u001b[0m\u001b[0maxis\u001b[0m\u001b[1;33m)\u001b[0m\u001b[1;33m\u001b[0m\u001b[1;33m\u001b[0m\u001b[0m\n\u001b[0m\u001b[0;32m    175\u001b[0m \u001b[1;33m\u001b[0m\u001b[0m\n\u001b[0;32m    176\u001b[0m \u001b[1;33m\u001b[0m\u001b[0m\n",
      "\u001b[1;31mMemoryError\u001b[0m: "
     ]
    }
   ],
   "source": [
    "#sf_df=pd.concat(dflist)\n",
    "#sf_df.reset_index(drop=True,inplace=True)\n",
    "ny_df=pd.concat(dflist,ignore_index=True,copy=False)\n",
    "ny_df.reset_index(inplace=True)"
   ]
  },
  {
   "cell_type": "code",
   "execution_count": 178,
   "metadata": {},
   "outputs": [
    {
     "data": {
      "text/html": [
       "<div>\n",
       "<style scoped>\n",
       "    .dataframe tbody tr th:only-of-type {\n",
       "        vertical-align: middle;\n",
       "    }\n",
       "\n",
       "    .dataframe tbody tr th {\n",
       "        vertical-align: top;\n",
       "    }\n",
       "\n",
       "    .dataframe thead th {\n",
       "        text-align: right;\n",
       "    }\n",
       "</style>\n",
       "<table border=\"1\" class=\"dataframe\">\n",
       "  <thead>\n",
       "    <tr style=\"text-align: right;\">\n",
       "      <th></th>\n",
       "      <th>bike_id</th>\n",
       "      <th>bike_share_for_all_trip</th>\n",
       "      <th>duration_sec</th>\n",
       "      <th>end_station_id</th>\n",
       "      <th>end_station_latitude</th>\n",
       "      <th>end_station_longitude</th>\n",
       "      <th>end_station_name</th>\n",
       "      <th>end_time</th>\n",
       "      <th>rental_access_method</th>\n",
       "      <th>start_station_id</th>\n",
       "      <th>start_station_latitude</th>\n",
       "      <th>start_station_longitude</th>\n",
       "      <th>start_station_name</th>\n",
       "      <th>start_time</th>\n",
       "      <th>user_type</th>\n",
       "    </tr>\n",
       "  </thead>\n",
       "  <tbody>\n",
       "    <tr>\n",
       "      <td>2671056</td>\n",
       "      <td>6306</td>\n",
       "      <td>No</td>\n",
       "      <td>857</td>\n",
       "      <td>42.0</td>\n",
       "      <td>37.778650</td>\n",
       "      <td>-122.418230</td>\n",
       "      <td>San Francisco City Hall (Polk St at Grove St)</td>\n",
       "      <td>2019-02-15 13:32:44.5610</td>\n",
       "      <td>NaN</td>\n",
       "      <td>6.0</td>\n",
       "      <td>37.804770</td>\n",
       "      <td>-122.403234</td>\n",
       "      <td>The Embarcadero at Sansome St</td>\n",
       "      <td>2019-02-15 13:18:27.4160</td>\n",
       "      <td>Subscriber</td>\n",
       "    </tr>\n",
       "    <tr>\n",
       "      <td>5688</td>\n",
       "      <td>2032</td>\n",
       "      <td>NaN</td>\n",
       "      <td>559</td>\n",
       "      <td>3.0</td>\n",
       "      <td>37.786375</td>\n",
       "      <td>-122.404904</td>\n",
       "      <td>Powell St BART Station (Market St at 4th St)</td>\n",
       "      <td>2017-12-28 14:00:21.0150</td>\n",
       "      <td>NaN</td>\n",
       "      <td>56.0</td>\n",
       "      <td>37.773414</td>\n",
       "      <td>-122.427317</td>\n",
       "      <td>Koshland Park</td>\n",
       "      <td>2017-12-28 13:51:01.1300</td>\n",
       "      <td>Subscriber</td>\n",
       "    </tr>\n",
       "    <tr>\n",
       "      <td>4684229</td>\n",
       "      <td>3539</td>\n",
       "      <td>No</td>\n",
       "      <td>291</td>\n",
       "      <td>274.0</td>\n",
       "      <td>37.857567</td>\n",
       "      <td>-122.267558</td>\n",
       "      <td>Oregon St at Adeline St</td>\n",
       "      <td>2019-11-08 12:13:50.1820</td>\n",
       "      <td>NaN</td>\n",
       "      <td>266.0</td>\n",
       "      <td>37.862464</td>\n",
       "      <td>-122.264791</td>\n",
       "      <td>Parker St at Fulton St</td>\n",
       "      <td>2019-11-08 12:08:58.5470</td>\n",
       "      <td>Customer</td>\n",
       "    </tr>\n",
       "    <tr>\n",
       "      <td>3149360</td>\n",
       "      <td>5487</td>\n",
       "      <td>No</td>\n",
       "      <td>258</td>\n",
       "      <td>75.0</td>\n",
       "      <td>37.773793</td>\n",
       "      <td>-122.421239</td>\n",
       "      <td>Market St at Franklin St</td>\n",
       "      <td>2019-04-11 13:37:16.4530</td>\n",
       "      <td>NaN</td>\n",
       "      <td>77.0</td>\n",
       "      <td>37.773507</td>\n",
       "      <td>-122.416040</td>\n",
       "      <td>11th St at Natoma St</td>\n",
       "      <td>2019-04-11 13:32:57.9050</td>\n",
       "      <td>Subscriber</td>\n",
       "    </tr>\n",
       "    <tr>\n",
       "      <td>3313517</td>\n",
       "      <td>127</td>\n",
       "      <td>No</td>\n",
       "      <td>1092</td>\n",
       "      <td>16.0</td>\n",
       "      <td>37.794130</td>\n",
       "      <td>-122.394430</td>\n",
       "      <td>Steuart St at Market St</td>\n",
       "      <td>2019-05-22 07:51:02.1160</td>\n",
       "      <td>NaN</td>\n",
       "      <td>52.0</td>\n",
       "      <td>37.777416</td>\n",
       "      <td>-122.441838</td>\n",
       "      <td>McAllister St at Baker St</td>\n",
       "      <td>2019-05-22 07:32:49.5640</td>\n",
       "      <td>Subscriber</td>\n",
       "    </tr>\n",
       "    <tr>\n",
       "      <td>2396180</td>\n",
       "      <td>1683</td>\n",
       "      <td>No</td>\n",
       "      <td>11184</td>\n",
       "      <td>11.0</td>\n",
       "      <td>37.797280</td>\n",
       "      <td>-122.398436</td>\n",
       "      <td>Davis St at Jackson St</td>\n",
       "      <td>2019-01-30 17:00:33.4090</td>\n",
       "      <td>NaN</td>\n",
       "      <td>70.0</td>\n",
       "      <td>37.773311</td>\n",
       "      <td>-122.444293</td>\n",
       "      <td>Central Ave at Fell St</td>\n",
       "      <td>2019-01-30 13:54:09.3970</td>\n",
       "      <td>Customer</td>\n",
       "    </tr>\n",
       "    <tr>\n",
       "      <td>635407</td>\n",
       "      <td>807</td>\n",
       "      <td>No</td>\n",
       "      <td>428</td>\n",
       "      <td>116.0</td>\n",
       "      <td>37.764802</td>\n",
       "      <td>-122.394771</td>\n",
       "      <td>Mississippi St at 17th St</td>\n",
       "      <td>2018-02-22 17:46:58.5000</td>\n",
       "      <td>NaN</td>\n",
       "      <td>81.0</td>\n",
       "      <td>37.775880</td>\n",
       "      <td>-122.393170</td>\n",
       "      <td>Berry St at 4th St</td>\n",
       "      <td>2018-02-22 17:39:50.2610</td>\n",
       "      <td>Subscriber</td>\n",
       "    </tr>\n",
       "    <tr>\n",
       "      <td>2563004</td>\n",
       "      <td>1537</td>\n",
       "      <td>No</td>\n",
       "      <td>500</td>\n",
       "      <td>30.0</td>\n",
       "      <td>37.776598</td>\n",
       "      <td>-122.395282</td>\n",
       "      <td>San Francisco Caltrain (Townsend St at 4th St)</td>\n",
       "      <td>2019-01-03 17:19:08.0530</td>\n",
       "      <td>NaN</td>\n",
       "      <td>23.0</td>\n",
       "      <td>37.791464</td>\n",
       "      <td>-122.391034</td>\n",
       "      <td>The Embarcadero at Steuart St</td>\n",
       "      <td>2019-01-03 17:10:47.1700</td>\n",
       "      <td>Subscriber</td>\n",
       "    </tr>\n",
       "    <tr>\n",
       "      <td>4937998</td>\n",
       "      <td>13048</td>\n",
       "      <td>No</td>\n",
       "      <td>1006</td>\n",
       "      <td>27.0</td>\n",
       "      <td>37.788059</td>\n",
       "      <td>-122.391865</td>\n",
       "      <td>Beale St at Harrison St</td>\n",
       "      <td>2020-01-17 17:29:25.7440</td>\n",
       "      <td>NaN</td>\n",
       "      <td>350.0</td>\n",
       "      <td>37.771431</td>\n",
       "      <td>-122.405787</td>\n",
       "      <td>8th St at Brannan St</td>\n",
       "      <td>2020-01-17 17:12:38.8370</td>\n",
       "      <td>Customer</td>\n",
       "    </tr>\n",
       "    <tr>\n",
       "      <td>3770778</td>\n",
       "      <td>2601</td>\n",
       "      <td>Yes</td>\n",
       "      <td>233</td>\n",
       "      <td>218.0</td>\n",
       "      <td>37.812331</td>\n",
       "      <td>-122.285171</td>\n",
       "      <td>DeFremery Park</td>\n",
       "      <td>2019-07-06 11:18:38.5080</td>\n",
       "      <td>NaN</td>\n",
       "      <td>235.0</td>\n",
       "      <td>37.807239</td>\n",
       "      <td>-122.289370</td>\n",
       "      <td>Union St at 10th St</td>\n",
       "      <td>2019-07-06 11:14:44.6470</td>\n",
       "      <td>Subscriber</td>\n",
       "    </tr>\n",
       "  </tbody>\n",
       "</table>\n",
       "</div>"
      ],
      "text/plain": [
       "         bike_id bike_share_for_all_trip  duration_sec  end_station_id  \\\n",
       "2671056     6306                      No           857            42.0   \n",
       "5688        2032                     NaN           559             3.0   \n",
       "4684229     3539                      No           291           274.0   \n",
       "3149360     5487                      No           258            75.0   \n",
       "3313517      127                      No          1092            16.0   \n",
       "2396180     1683                      No         11184            11.0   \n",
       "635407       807                      No           428           116.0   \n",
       "2563004     1537                      No           500            30.0   \n",
       "4937998    13048                      No          1006            27.0   \n",
       "3770778     2601                     Yes           233           218.0   \n",
       "\n",
       "         end_station_latitude  end_station_longitude  \\\n",
       "2671056             37.778650            -122.418230   \n",
       "5688                37.786375            -122.404904   \n",
       "4684229             37.857567            -122.267558   \n",
       "3149360             37.773793            -122.421239   \n",
       "3313517             37.794130            -122.394430   \n",
       "2396180             37.797280            -122.398436   \n",
       "635407              37.764802            -122.394771   \n",
       "2563004             37.776598            -122.395282   \n",
       "4937998             37.788059            -122.391865   \n",
       "3770778             37.812331            -122.285171   \n",
       "\n",
       "                                       end_station_name  \\\n",
       "2671056   San Francisco City Hall (Polk St at Grove St)   \n",
       "5688       Powell St BART Station (Market St at 4th St)   \n",
       "4684229                         Oregon St at Adeline St   \n",
       "3149360                        Market St at Franklin St   \n",
       "3313517                         Steuart St at Market St   \n",
       "2396180                          Davis St at Jackson St   \n",
       "635407                        Mississippi St at 17th St   \n",
       "2563004  San Francisco Caltrain (Townsend St at 4th St)   \n",
       "4937998                         Beale St at Harrison St   \n",
       "3770778                                  DeFremery Park   \n",
       "\n",
       "                         end_time rental_access_method  start_station_id  \\\n",
       "2671056  2019-02-15 13:32:44.5610                  NaN               6.0   \n",
       "5688     2017-12-28 14:00:21.0150                  NaN              56.0   \n",
       "4684229  2019-11-08 12:13:50.1820                  NaN             266.0   \n",
       "3149360  2019-04-11 13:37:16.4530                  NaN              77.0   \n",
       "3313517  2019-05-22 07:51:02.1160                  NaN              52.0   \n",
       "2396180  2019-01-30 17:00:33.4090                  NaN              70.0   \n",
       "635407   2018-02-22 17:46:58.5000                  NaN              81.0   \n",
       "2563004  2019-01-03 17:19:08.0530                  NaN              23.0   \n",
       "4937998  2020-01-17 17:29:25.7440                  NaN             350.0   \n",
       "3770778  2019-07-06 11:18:38.5080                  NaN             235.0   \n",
       "\n",
       "         start_station_latitude  start_station_longitude  \\\n",
       "2671056               37.804770              -122.403234   \n",
       "5688                  37.773414              -122.427317   \n",
       "4684229               37.862464              -122.264791   \n",
       "3149360               37.773507              -122.416040   \n",
       "3313517               37.777416              -122.441838   \n",
       "2396180               37.773311              -122.444293   \n",
       "635407                37.775880              -122.393170   \n",
       "2563004               37.791464              -122.391034   \n",
       "4937998               37.771431              -122.405787   \n",
       "3770778               37.807239              -122.289370   \n",
       "\n",
       "                    start_station_name                start_time   user_type  \n",
       "2671056  The Embarcadero at Sansome St  2019-02-15 13:18:27.4160  Subscriber  \n",
       "5688                     Koshland Park  2017-12-28 13:51:01.1300  Subscriber  \n",
       "4684229         Parker St at Fulton St  2019-11-08 12:08:58.5470    Customer  \n",
       "3149360           11th St at Natoma St  2019-04-11 13:32:57.9050  Subscriber  \n",
       "3313517      McAllister St at Baker St  2019-05-22 07:32:49.5640  Subscriber  \n",
       "2396180         Central Ave at Fell St  2019-01-30 13:54:09.3970    Customer  \n",
       "635407              Berry St at 4th St  2018-02-22 17:39:50.2610  Subscriber  \n",
       "2563004  The Embarcadero at Steuart St  2019-01-03 17:10:47.1700  Subscriber  \n",
       "4937998           8th St at Brannan St  2020-01-17 17:12:38.8370    Customer  \n",
       "3770778            Union St at 10th St  2019-07-06 11:14:44.6470  Subscriber  "
      ]
     },
     "execution_count": 178,
     "metadata": {},
     "output_type": "execute_result"
    }
   ],
   "source": [
    "sf_df.sample(10)"
   ]
  },
  {
   "cell_type": "code",
   "execution_count": 181,
   "metadata": {},
   "outputs": [],
   "source": [
    "# save master dataframe to pickle\n",
    "# wrangling with this dataframe in another notebook\n",
    "pickle.dump(sf_df, open('data/df_sf.pkl','wb'))"
   ]
  },
  {
   "cell_type": "markdown",
   "metadata": {},
   "source": [
    "## Chicago\n",
    "https://divvy-tripdata.s3.amazonaws.com/index.html"
   ]
  },
  {
   "cell_type": "code",
   "execution_count": null,
   "metadata": {},
   "outputs": [],
   "source": []
  },
  {
   "cell_type": "code",
   "execution_count": null,
   "metadata": {},
   "outputs": [],
   "source": []
  },
  {
   "cell_type": "markdown",
   "metadata": {},
   "source": [
    "### What is the structure of your dataset?\n",
    "\n",
    "> Your answer here!\n",
    "\n",
    "### What is/are the main feature(s) of interest in your dataset?\n",
    "\n",
    "> Your answer here!\n",
    "\n",
    "### What features in the dataset do you think will help support your investigation into your feature(s) of interest?\n",
    "\n",
    "> Your answer here!"
   ]
  },
  {
   "cell_type": "markdown",
   "metadata": {},
   "source": [
    "## Univariate Exploration\n",
    "\n",
    "> In this section, investigate distributions of individual variables. If\n",
    "you see unusual points or outliers, take a deeper look to clean things up\n",
    "and prepare yourself to look at relationships between variables."
   ]
  },
  {
   "cell_type": "code",
   "execution_count": null,
   "metadata": {},
   "outputs": [],
   "source": []
  },
  {
   "cell_type": "markdown",
   "metadata": {},
   "source": [
    "> Make sure that, after every plot or related series of plots, that you\n",
    "include a Markdown cell with comments about what you observed, and what\n",
    "you plan on investigating next."
   ]
  },
  {
   "cell_type": "code",
   "execution_count": null,
   "metadata": {},
   "outputs": [],
   "source": []
  },
  {
   "cell_type": "markdown",
   "metadata": {},
   "source": [
    "### Discuss the distribution(s) of your variable(s) of interest. Were there any unusual points? Did you need to perform any transformations?\n",
    "\n",
    "> Your answer here!\n",
    "\n",
    "### Of the features you investigated, were there any unusual distributions? Did you perform any operations on the data to tidy, adjust, or change the form of the data? If so, why did you do this?\n",
    "\n",
    "> Your answer here!"
   ]
  },
  {
   "cell_type": "markdown",
   "metadata": {},
   "source": [
    "## Bivariate Exploration\n",
    "\n",
    "> In this section, investigate relationships between pairs of variables in your\n",
    "data. Make sure the variables that you cover here have been introduced in some\n",
    "fashion in the previous section (univariate exploration)."
   ]
  },
  {
   "cell_type": "code",
   "execution_count": null,
   "metadata": {},
   "outputs": [],
   "source": []
  },
  {
   "cell_type": "markdown",
   "metadata": {},
   "source": [
    "### Talk about some of the relationships you observed in this part of the investigation. How did the feature(s) of interest vary with other features in the dataset?\n",
    "\n",
    "> Your answer here!\n",
    "\n",
    "### Did you observe any interesting relationships between the other features (not the main feature(s) of interest)?\n",
    "\n",
    "> Your answer here!"
   ]
  },
  {
   "cell_type": "markdown",
   "metadata": {},
   "source": [
    "## Multivariate Exploration\n",
    "\n",
    "> Create plots of three or more variables to investigate your data even\n",
    "further. Make sure that your investigations are justified, and follow from\n",
    "your work in the previous sections."
   ]
  },
  {
   "cell_type": "code",
   "execution_count": null,
   "metadata": {},
   "outputs": [],
   "source": []
  },
  {
   "cell_type": "markdown",
   "metadata": {},
   "source": [
    "### Talk about some of the relationships you observed in this part of the investigation. Were there features that strengthened each other in terms of looking at your feature(s) of interest?\n",
    "\n",
    "> Your answer here!\n",
    "\n",
    "### Were there any interesting or surprising interactions between features?\n",
    "\n",
    "> Your answer here!"
   ]
  },
  {
   "cell_type": "markdown",
   "metadata": {},
   "source": [
    "> At the end of your report, make sure that you export the notebook as an\n",
    "html file from the `File > Download as... > HTML` menu. Make sure you keep\n",
    "track of where the exported file goes, so you can put it in the same folder\n",
    "as this notebook for project submission. Also, make sure you remove all of\n",
    "the quote-formatted guide notes like this one before you finish your report!"
   ]
  },
  {
   "cell_type": "code",
   "execution_count": null,
   "metadata": {},
   "outputs": [],
   "source": []
  }
 ],
 "metadata": {
  "kernelspec": {
   "display_name": "Python 3",
   "language": "python",
   "name": "python3"
  },
  "language_info": {
   "codemirror_mode": {
    "name": "ipython",
    "version": 3
   },
   "file_extension": ".py",
   "mimetype": "text/x-python",
   "name": "python",
   "nbconvert_exporter": "python",
   "pygments_lexer": "ipython3",
   "version": "3.7.4"
  }
 },
 "nbformat": 4,
 "nbformat_minor": 2
}
